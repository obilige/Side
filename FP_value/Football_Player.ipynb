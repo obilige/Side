{
 "cells": [
  {
   "cell_type": "markdown",
   "metadata": {},
   "source": [
    "# Football Player Value\n",
    "- Data From : https://www.transfermarkt.com/\n",
    "    * 트랜스퍼마켓 : 공신력 있는 축구선수 이적 관련 사이트\n",
    "- Subject : 축구선수 몸값은 어떻게 결정될까?\n",
    "    * 1. 축구가 산업화된 잉글랜드 프리미어리그에선 영국 국적이 몸값에 영향을 준다고 한다. 정말?\n",
    "    * 2. 골, 어시스트, 키, 몸무게, 국적, 소속팀, 소속팀 성적, 소속팀 소속 리그 등 다양한 변수 활용\n",
    "- Project Process\n",
    "    * 1. 웹크롤링으로 데이터 확보\n",
    "    * 2. 확보한 데이터 병합\n",
    "    * 3. EDA 및 데이터전처리\n",
    "    * 4. 서브주제에 맞춰 다양한 ML모델 사용\n",
    "- Stack : Beautiful Soup 4, Pandas, Seaborn, Scikit-Learning"
   ]
  },
  {
   "cell_type": "code",
   "execution_count": 2,
   "metadata": {},
   "outputs": [],
   "source": [
    "from bs4 import BeautifulSoup\n",
    "import requests\n",
    "import pandas as pd\n",
    "import numpy as np\n",
    "import seaborn as sns\n",
    "import re\n",
    "# 정규표현식\n",
    "\n",
    "from sklearn.model_selection import train_test_split, cross_val_score, cross_validate, GridSearchCV # 데이터 나누기, 점검 및 훈련\n",
    "from sklearn.metrics import accuracy_score, confusion_matrix, classification_report, roc_curve, precision_score, recall_score # 평가지표\n",
    "from sklearn.linear_model import LinearRegression, Ridge, Lasso\n",
    "from sklearn.svm import SVR, LinearSVR\n",
    "from xgboost import XGBRegressor\n",
    "from lightgbm import LGBMRegressor\n",
    "\n",
    "from sklearn.pipeline import make_pipeline\n",
    "import multiprocessing\n",
    "from sklearn.pipeline import Pipeline\n",
    "from sklearn.preprocessing import StandardScaler"
   ]
  },
  {
   "cell_type": "markdown",
   "metadata": {},
   "source": [
    "## 1. 축구선수 이적 데이터 확보\n",
    "- webcrawling\n",
    "- transfer markt"
   ]
  },
  {
   "cell_type": "code",
   "execution_count": null,
   "metadata": {},
   "outputs": [],
   "source": []
  }
 ],
 "metadata": {
  "interpreter": {
   "hash": "476a94dc85aeef50ce38d52ab019ae32fa2a67ff1ac8045d45d38aa23f62cc9d"
  },
  "kernelspec": {
   "display_name": "Python 3.9.7 ('ML')",
   "language": "python",
   "name": "python3"
  },
  "language_info": {
   "codemirror_mode": {
    "name": "ipython",
    "version": 3
   },
   "file_extension": ".py",
   "mimetype": "text/x-python",
   "name": "python",
   "nbconvert_exporter": "python",
   "pygments_lexer": "ipython3",
   "version": "3.9.7"
  },
  "orig_nbformat": 4
 },
 "nbformat": 4,
 "nbformat_minor": 2
}
